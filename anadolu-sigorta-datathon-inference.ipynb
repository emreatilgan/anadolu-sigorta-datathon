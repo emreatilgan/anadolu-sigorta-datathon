{
 "cells": [
  {
   "cell_type": "markdown",
   "metadata": {
    "papermill": {
     "duration": 0.019491,
     "end_time": "2020-12-11T05:27:58.484113",
     "exception": false,
     "start_time": "2020-12-11T05:27:58.464622",
     "status": "completed"
    },
    "tags": []
   },
   "source": [
    "# Anadolu Sigorta Datathon Challenge"
   ]
  },
  {
   "cell_type": "markdown",
   "metadata": {
    "papermill": {
     "duration": 0.01636,
     "end_time": "2020-12-11T05:27:58.517667",
     "exception": false,
     "start_time": "2020-12-11T05:27:58.501307",
     "status": "completed"
    },
    "tags": []
   },
   "source": [
    "## Libraries"
   ]
  },
  {
   "cell_type": "code",
   "execution_count": 1,
   "metadata": {
    "execution": {
     "iopub.execute_input": "2020-12-11T05:27:58.560386Z",
     "iopub.status.busy": "2020-12-11T05:27:58.559600Z",
     "iopub.status.idle": "2020-12-11T05:28:05.482446Z",
     "shell.execute_reply": "2020-12-11T05:28:05.481600Z"
    },
    "papermill": {
     "duration": 6.948321,
     "end_time": "2020-12-11T05:28:05.482599",
     "exception": false,
     "start_time": "2020-12-11T05:27:58.534278",
     "status": "completed"
    },
    "tags": []
   },
   "outputs": [],
   "source": [
    "import os\n",
    "\n",
    "from IPython.display import Image, display\n",
    "from tensorflow.keras.preprocessing.image import load_img\n",
    "import PIL\n",
    "from PIL import ImageOps\n",
    "\n",
    "from tensorflow import keras\n",
    "import numpy as np\n",
    "import pandas as pd\n",
    "from tensorflow.keras.preprocessing.image import load_img\n",
    "from tensorflow.keras.preprocessing.image import img_to_array, array_to_img\n",
    "\n",
    "from tensorflow.keras import layers\n",
    "from tensorflow.keras.metrics import MeanIoU\n",
    "from tensorflow.keras.models import load_model\n",
    "from keras import backend as K\n",
    "\n",
    "import random"
   ]
  },
  {
   "cell_type": "markdown",
   "metadata": {
    "papermill": {
     "duration": 0.016876,
     "end_time": "2020-12-11T05:28:05.517611",
     "exception": false,
     "start_time": "2020-12-11T05:28:05.500735",
     "status": "completed"
    },
    "tags": []
   },
   "source": [
    "## Helpers"
   ]
  },
  {
   "cell_type": "code",
   "execution_count": 2,
   "metadata": {
    "execution": {
     "iopub.execute_input": "2020-12-11T05:28:05.561889Z",
     "iopub.status.busy": "2020-12-11T05:28:05.561046Z",
     "iopub.status.idle": "2020-12-11T05:28:05.565023Z",
     "shell.execute_reply": "2020-12-11T05:28:05.564254Z"
    },
    "papermill": {
     "duration": 0.030512,
     "end_time": "2020-12-11T05:28:05.565149",
     "exception": false,
     "start_time": "2020-12-11T05:28:05.534637",
     "status": "completed"
    },
    "tags": []
   },
   "outputs": [],
   "source": [
    "def rle(img):\n",
    "    bytes = np.where(img.T.flatten()==1)[0]\n",
    "    runs = []\n",
    "    prev = -2\n",
    "    for b in bytes:\n",
    "        if (b>prev+1): runs.extend((b+1, 0))\n",
    "        runs[-1] += 1\n",
    "        prev = b\n",
    "    return ' '.join([str(i) for i in runs])"
   ]
  },
  {
   "cell_type": "code",
   "execution_count": 3,
   "metadata": {
    "execution": {
     "iopub.execute_input": "2020-12-11T05:28:05.613970Z",
     "iopub.status.busy": "2020-12-11T05:28:05.608926Z",
     "iopub.status.idle": "2020-12-11T05:28:05.617307Z",
     "shell.execute_reply": "2020-12-11T05:28:05.617910Z"
    },
    "papermill": {
     "duration": 0.035473,
     "end_time": "2020-12-11T05:28:05.618083",
     "exception": false,
     "start_time": "2020-12-11T05:28:05.582610",
     "status": "completed"
    },
    "tags": []
   },
   "outputs": [],
   "source": [
    "class AnadoluSigortaTest(keras.utils.Sequence):\n",
    "    \"\"\"Helper to iterate over the data (as Numpy arrays).\"\"\"\n",
    "\n",
    "    def __init__(self, batch_size, img_size, test_img_paths):\n",
    "        self.batch_size = batch_size\n",
    "        self.img_size = img_size\n",
    "        self.test_img_paths = test_img_paths\n",
    "        \n",
    "    def __len__(self):\n",
    "        return len(self.test_img_paths) // self.batch_size\n",
    "\n",
    "    def __getitem__(self, idx):\n",
    "        \"\"\"Returns test images correspond to batch #idx.\"\"\"\n",
    "        i = idx * self.batch_size\n",
    "        batch_test_img_paths = self.test_img_paths[i : i + self.batch_size]\n",
    "        \n",
    "        x = np.zeros((self.batch_size,) + self.img_size + (3,), dtype=\"float32\")\n",
    "        for j, path in enumerate(batch_test_img_paths):\n",
    "            org_img = load_img(path)\n",
    "            img = load_img(path, target_size=self.img_size)\n",
    "            x[j] = img\n",
    "            \n",
    "            mask_name = path.split('/')[-1].split('.')[0] + '_' + type_name\n",
    "        \n",
    "        return x, org_img.width, org_img.height, mask_name"
   ]
  },
  {
   "cell_type": "code",
   "execution_count": 4,
   "metadata": {
    "execution": {
     "iopub.execute_input": "2020-12-11T05:28:05.661406Z",
     "iopub.status.busy": "2020-12-11T05:28:05.660667Z",
     "iopub.status.idle": "2020-12-11T05:28:05.664397Z",
     "shell.execute_reply": "2020-12-11T05:28:05.663664Z"
    },
    "papermill": {
     "duration": 0.02859,
     "end_time": "2020-12-11T05:28:05.664541",
     "exception": false,
     "start_time": "2020-12-11T05:28:05.635951",
     "status": "completed"
    },
    "tags": []
   },
   "outputs": [],
   "source": [
    "def dice_coef(y_true, y_pred, smooth=1):\n",
    "    y_true_f = K.flatten(y_true)\n",
    "    y_pred_f = K.flatten(y_pred)\n",
    "    intersection = K.sum(y_true_f * y_pred_f)\n",
    "    return (2. * intersection + smooth) / (K.sum(y_true_f) + K.sum(y_pred_f) + smooth)"
   ]
  },
  {
   "cell_type": "markdown",
   "metadata": {
    "papermill": {
     "duration": 0.017194,
     "end_time": "2020-12-11T05:28:05.699296",
     "exception": false,
     "start_time": "2020-12-11T05:28:05.682102",
     "status": "completed"
    },
    "tags": []
   },
   "source": [
    "## Settings & Parameters"
   ]
  },
  {
   "cell_type": "code",
   "execution_count": 5,
   "metadata": {
    "execution": {
     "iopub.execute_input": "2020-12-11T05:28:05.741540Z",
     "iopub.status.busy": "2020-12-11T05:28:05.740759Z",
     "iopub.status.idle": "2020-12-11T05:28:05.743910Z",
     "shell.execute_reply": "2020-12-11T05:28:05.743162Z"
    },
    "papermill": {
     "duration": 0.027106,
     "end_time": "2020-12-11T05:28:05.744033",
     "exception": false,
     "start_time": "2020-12-11T05:28:05.716927",
     "status": "completed"
    },
    "tags": []
   },
   "outputs": [],
   "source": [
    "type_names = ['id1', 'id2', 'id3', 'id4'] \n",
    "\n",
    "model_dir = f\"/kaggle/input/anadoludatathonmodelsv7/\"\n",
    "test_dir = \"/kaggle/input/datathon-challenge/Testing_Imgs/Testing_Imgs/\"\n",
    "\n",
    "img_size = (1024, 1024)\n",
    "batch_size = 1\n",
    "\n",
    "threshold = 1"
   ]
  },
  {
   "cell_type": "markdown",
   "metadata": {
    "papermill": {
     "duration": 0.017592,
     "end_time": "2020-12-11T05:28:05.779408",
     "exception": false,
     "start_time": "2020-12-11T05:28:05.761816",
     "status": "completed"
    },
    "tags": []
   },
   "source": [
    "## Test Data"
   ]
  },
  {
   "cell_type": "code",
   "execution_count": 6,
   "metadata": {
    "execution": {
     "iopub.execute_input": "2020-12-11T05:28:05.821266Z",
     "iopub.status.busy": "2020-12-11T05:28:05.820518Z",
     "iopub.status.idle": "2020-12-11T05:28:05.978721Z",
     "shell.execute_reply": "2020-12-11T05:28:05.978063Z"
    },
    "papermill": {
     "duration": 0.181713,
     "end_time": "2020-12-11T05:28:05.978864",
     "exception": false,
     "start_time": "2020-12-11T05:28:05.797151",
     "status": "completed"
    },
    "tags": []
   },
   "outputs": [],
   "source": [
    "test_img_paths = sorted(\n",
    "    [\n",
    "        os.path.join(test_dir, fname)\n",
    "        for fname in os.listdir(test_dir)\n",
    "        if fname.endswith(\".jpeg\")\n",
    "    ]\n",
    ")"
   ]
  },
  {
   "cell_type": "markdown",
   "metadata": {
    "papermill": {
     "duration": 0.017408,
     "end_time": "2020-12-11T05:28:06.014843",
     "exception": false,
     "start_time": "2020-12-11T05:28:05.997435",
     "status": "completed"
    },
    "tags": []
   },
   "source": [
    "## Load models and predict in a loop"
   ]
  },
  {
   "cell_type": "code",
   "execution_count": 7,
   "metadata": {
    "execution": {
     "iopub.execute_input": "2020-12-11T05:28:06.064567Z",
     "iopub.status.busy": "2020-12-11T05:28:06.063806Z",
     "iopub.status.idle": "2020-12-11T05:28:06.067653Z",
     "shell.execute_reply": "2020-12-11T05:28:06.066907Z"
    },
    "papermill": {
     "duration": 0.035184,
     "end_time": "2020-12-11T05:28:06.067776",
     "exception": false,
     "start_time": "2020-12-11T05:28:06.032592",
     "status": "completed"
    },
    "tags": []
   },
   "outputs": [],
   "source": [
    "all_predictions = pd.DataFrame(columns=['filename_class', 'encoded_mask'])"
   ]
  },
  {
   "cell_type": "code",
   "execution_count": 8,
   "metadata": {
    "execution": {
     "iopub.execute_input": "2020-12-11T05:28:06.118028Z",
     "iopub.status.busy": "2020-12-11T05:28:06.117119Z",
     "iopub.status.idle": "2020-12-11T06:45:37.830932Z",
     "shell.execute_reply": "2020-12-11T06:45:37.829988Z"
    },
    "papermill": {
     "duration": 4651.745262,
     "end_time": "2020-12-11T06:45:37.831151",
     "exception": false,
     "start_time": "2020-12-11T05:28:06.085889",
     "status": "completed"
    },
    "tags": []
   },
   "outputs": [],
   "source": [
    "for type_name in type_names:\n",
    "    \n",
    "    model_name = f'anadolu_segmentation_{type_name}.h5'\n",
    "    \n",
    "    model = load_model(os.path.join(model_dir, model_name), custom_objects={\"dice_coef\": dice_coef})\n",
    "    \n",
    "    test_gen = AnadoluSigortaTest(batch_size, img_size, test_img_paths)\n",
    "    \n",
    "    predictions = dict()\n",
    "    \n",
    "    for x, width, height, mask_name in test_gen:\n",
    "    \n",
    "        # Get predictions\n",
    "        test_pred = model.predict(x)\n",
    "        \n",
    "        # Get rid of the batches axis\n",
    "        test_pred = test_pred.reshape(img_size + (1,))\n",
    "        \n",
    "        # Convert proba to class 1,0 using threshold\n",
    "        mask = np.where(test_pred >= threshold, 1, 0)\n",
    "        \n",
    "        # Convert mask array to image for resizing the test image original size\n",
    "        mask_img = array_to_img(mask)\n",
    "        original_mask = img_to_array(mask_img.resize((width, height)))\n",
    "        \n",
    "        # RLE encoding\n",
    "        rle_encoded_pred = rle(original_mask)\n",
    "        \n",
    "        # Add to dictionary\n",
    "        predictions[mask_name] = rle_encoded_pred\n",
    "        \n",
    "    # Convert dict to dataframe and append to all_predictions df    \n",
    "    df_pred = pd.DataFrame(predictions, index=[0]).T.reset_index()\n",
    "    df_pred.columns = ['filename_class', 'encoded_mask']\n",
    "    \n",
    "    all_predictions = pd.concat([all_predictions, df_pred])"
   ]
  },
  {
   "cell_type": "markdown",
   "metadata": {
    "papermill": {
     "duration": 0.017822,
     "end_time": "2020-12-11T06:45:37.869346",
     "exception": false,
     "start_time": "2020-12-11T06:45:37.851524",
     "status": "completed"
    },
    "tags": []
   },
   "source": [
    "## Load sample submission for left join"
   ]
  },
  {
   "cell_type": "code",
   "execution_count": 9,
   "metadata": {
    "execution": {
     "iopub.execute_input": "2020-12-11T06:45:37.913247Z",
     "iopub.status.busy": "2020-12-11T06:45:37.912344Z",
     "iopub.status.idle": "2020-12-11T06:45:37.928203Z",
     "shell.execute_reply": "2020-12-11T06:45:37.927433Z"
    },
    "papermill": {
     "duration": 0.04054,
     "end_time": "2020-12-11T06:45:37.928324",
     "exception": false,
     "start_time": "2020-12-11T06:45:37.887784",
     "status": "completed"
    },
    "tags": []
   },
   "outputs": [],
   "source": [
    "sample_sub = pd.read_csv('/kaggle/input/datathon-challenge/sample_submission.csv')"
   ]
  },
  {
   "cell_type": "code",
   "execution_count": 10,
   "metadata": {
    "execution": {
     "iopub.execute_input": "2020-12-11T06:45:37.978248Z",
     "iopub.status.busy": "2020-12-11T06:45:37.977069Z",
     "iopub.status.idle": "2020-12-11T06:45:37.980974Z",
     "shell.execute_reply": "2020-12-11T06:45:37.980166Z"
    },
    "papermill": {
     "duration": 0.033156,
     "end_time": "2020-12-11T06:45:37.981099",
     "exception": false,
     "start_time": "2020-12-11T06:45:37.947943",
     "status": "completed"
    },
    "tags": []
   },
   "outputs": [],
   "source": [
    "final_predictions = all_predictions[all_predictions['filename_class'].isin(sample_sub['filename_class'].to_list())]"
   ]
  },
  {
   "cell_type": "code",
   "execution_count": 11,
   "metadata": {
    "execution": {
     "iopub.execute_input": "2020-12-11T06:45:38.024426Z",
     "iopub.status.busy": "2020-12-11T06:45:38.023673Z",
     "iopub.status.idle": "2020-12-11T06:45:38.602562Z",
     "shell.execute_reply": "2020-12-11T06:45:38.601739Z"
    },
    "papermill": {
     "duration": 0.602662,
     "end_time": "2020-12-11T06:45:38.602714",
     "exception": false,
     "start_time": "2020-12-11T06:45:38.000052",
     "status": "completed"
    },
    "tags": []
   },
   "outputs": [],
   "source": [
    "final_predictions.to_csv(\"third_submission.csv\", index=False)"
   ]
  },
  {
   "cell_type": "code",
   "execution_count": null,
   "metadata": {
    "papermill": {
     "duration": 0.018426,
     "end_time": "2020-12-11T06:45:38.640217",
     "exception": false,
     "start_time": "2020-12-11T06:45:38.621791",
     "status": "completed"
    },
    "tags": []
   },
   "outputs": [],
   "source": []
  },
  {
   "cell_type": "code",
   "execution_count": null,
   "metadata": {
    "papermill": {
     "duration": 0.018425,
     "end_time": "2020-12-11T06:45:38.677447",
     "exception": false,
     "start_time": "2020-12-11T06:45:38.659022",
     "status": "completed"
    },
    "tags": []
   },
   "outputs": [],
   "source": []
  },
  {
   "cell_type": "code",
   "execution_count": null,
   "metadata": {
    "papermill": {
     "duration": 0.018431,
     "end_time": "2020-12-11T06:45:38.714849",
     "exception": false,
     "start_time": "2020-12-11T06:45:38.696418",
     "status": "completed"
    },
    "tags": []
   },
   "outputs": [],
   "source": []
  },
  {
   "cell_type": "code",
   "execution_count": null,
   "metadata": {
    "papermill": {
     "duration": 0.018311,
     "end_time": "2020-12-11T06:45:38.751810",
     "exception": false,
     "start_time": "2020-12-11T06:45:38.733499",
     "status": "completed"
    },
    "tags": []
   },
   "outputs": [],
   "source": []
  },
  {
   "cell_type": "code",
   "execution_count": null,
   "metadata": {
    "papermill": {
     "duration": 0.018439,
     "end_time": "2020-12-11T06:45:38.789069",
     "exception": false,
     "start_time": "2020-12-11T06:45:38.770630",
     "status": "completed"
    },
    "tags": []
   },
   "outputs": [],
   "source": []
  }
 ],
 "metadata": {
  "kernelspec": {
   "display_name": "Python 3",
   "language": "python",
   "name": "python3"
  },
  "language_info": {
   "codemirror_mode": {
    "name": "ipython",
    "version": 3
   },
   "file_extension": ".py",
   "mimetype": "text/x-python",
   "name": "python",
   "nbconvert_exporter": "python",
   "pygments_lexer": "ipython3",
   "version": "3.7.6"
  },
  "papermill": {
   "duration": 4665.752394,
   "end_time": "2020-12-11T06:45:38.917256",
   "environment_variables": {},
   "exception": null,
   "input_path": "__notebook__.ipynb",
   "output_path": "__notebook__.ipynb",
   "parameters": {},
   "start_time": "2020-12-11T05:27:53.164862",
   "version": "2.1.0"
  }
 },
 "nbformat": 4,
 "nbformat_minor": 4
}
