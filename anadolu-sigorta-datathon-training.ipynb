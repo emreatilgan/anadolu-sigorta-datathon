{
 "cells": [
  {
   "cell_type": "markdown",
   "metadata": {
    "papermill": {
     "duration": 0.010919,
     "end_time": "2020-12-12T06:04:00.655010",
     "exception": false,
     "start_time": "2020-12-12T06:04:00.644091",
     "status": "completed"
    },
    "tags": []
   },
   "source": [
    "# # Anadolu Sigorta Datathon Challenge"
   ]
  },
  {
   "cell_type": "markdown",
   "metadata": {
    "papermill": {
     "duration": 0.009729,
     "end_time": "2020-12-12T06:04:00.674883",
     "exception": false,
     "start_time": "2020-12-12T06:04:00.665154",
     "status": "completed"
    },
    "tags": []
   },
   "source": [
    "## References\n",
    "* https://keras.io/examples/vision/oxford_pets_image_segmentation/\n",
    "* https://www.kaggle.com/paulorzp/run-length-encode-and-decode"
   ]
  },
  {
   "cell_type": "markdown",
   "metadata": {
    "papermill": {
     "duration": 0.0097,
     "end_time": "2020-12-12T06:04:00.694536",
     "exception": false,
     "start_time": "2020-12-12T06:04:00.684836",
     "status": "completed"
    },
    "tags": []
   },
   "source": [
    "## Libraries"
   ]
  },
  {
   "cell_type": "code",
   "execution_count": 1,
   "metadata": {
    "execution": {
     "iopub.execute_input": "2020-12-12T06:04:00.723863Z",
     "iopub.status.busy": "2020-12-12T06:04:00.723136Z",
     "iopub.status.idle": "2020-12-12T06:04:06.347667Z",
     "shell.execute_reply": "2020-12-12T06:04:06.348772Z"
    },
    "papermill": {
     "duration": 5.644483,
     "end_time": "2020-12-12T06:04:06.348988",
     "exception": false,
     "start_time": "2020-12-12T06:04:00.704505",
     "status": "completed"
    },
    "tags": []
   },
   "outputs": [],
   "source": [
    "import os\n",
    "\n",
    "from IPython.display import Image, display\n",
    "from tensorflow.keras.preprocessing.image import load_img\n",
    "import PIL\n",
    "from PIL import ImageOps\n",
    "\n",
    "from tensorflow import keras\n",
    "import numpy as np\n",
    "import pandas as pd\n",
    "from tensorflow.keras.preprocessing.image import load_img\n",
    "from tensorflow.keras.preprocessing.image import img_to_array\n",
    "import tensorflow.keras.layers.experimental.preprocessing as preprocessing\n",
    "from keras.models import *\n",
    "from keras.layers import *\n",
    "from keras.optimizers import *\n",
    "from keras.callbacks import ModelCheckpoint, LearningRateScheduler\n",
    "from tensorflow.keras import layers\n",
    "from tensorflow.keras.metrics import MeanIoU\n",
    "from keras import backend as K\n",
    "\n",
    "import random"
   ]
  },
  {
   "cell_type": "markdown",
   "metadata": {
    "papermill": {
     "duration": 0.01305,
     "end_time": "2020-12-12T06:04:06.376654",
     "exception": false,
     "start_time": "2020-12-12T06:04:06.363604",
     "status": "completed"
    },
    "tags": []
   },
   "source": [
    "## Helpers"
   ]
  },
  {
   "cell_type": "code",
   "execution_count": 2,
   "metadata": {
    "execution": {
     "iopub.execute_input": "2020-12-12T06:04:06.415241Z",
     "iopub.status.busy": "2020-12-12T06:04:06.414263Z",
     "iopub.status.idle": "2020-12-12T06:04:06.427296Z",
     "shell.execute_reply": "2020-12-12T06:04:06.428392Z"
    },
    "papermill": {
     "duration": 0.038683,
     "end_time": "2020-12-12T06:04:06.428600",
     "exception": false,
     "start_time": "2020-12-12T06:04:06.389917",
     "status": "completed"
    },
    "tags": []
   },
   "outputs": [],
   "source": [
    "class AnadoluSigorta(keras.utils.Sequence):\n",
    "    \"\"\"Helper to iterate over the data (as Numpy arrays).\"\"\"\n",
    "\n",
    "    def __init__(self, batch_size, img_size, input_img_paths, target_img_paths):\n",
    "        self.batch_size = batch_size\n",
    "        self.img_size = img_size\n",
    "        self.input_img_paths = input_img_paths\n",
    "        self.target_img_paths = target_img_paths\n",
    "\n",
    "    def __len__(self):\n",
    "        return len(self.target_img_paths) // self.batch_size\n",
    "\n",
    "    def __getitem__(self, idx):\n",
    "        \"\"\"Returns tuple (input, target) correspond to batch #idx.\"\"\"\n",
    "        i = idx * self.batch_size\n",
    "        batch_input_img_paths = self.input_img_paths[i : i + self.batch_size]\n",
    "        batch_target_img_paths = self.target_img_paths[i : i + self.batch_size]\n",
    "        x = np.zeros((self.batch_size,) + self.img_size + (3,), dtype=\"float32\")\n",
    "        for j, path in enumerate(batch_input_img_paths):\n",
    "            img = img_to_array(load_img(path, target_size=img_size))\n",
    "            img /= 255.0\n",
    "            x[j] = img\n",
    "        y = np.zeros((self.batch_size,) + self.img_size + (1,), dtype=\"uint8\")\n",
    "        for j, path in enumerate(batch_target_img_paths):\n",
    "            img = load_img(path, target_size=self.img_size, color_mode=\"grayscale\")\n",
    "            y[j] = np.expand_dims(img, 2)\n",
    "            # Ground truth labels are 255 and 0. Make them 1, 0 for prediction:\n",
    "            y[j] = np.where(y[j] == 255, 1, 0)\n",
    "        return x, y"
   ]
  },
  {
   "cell_type": "code",
   "execution_count": 3,
   "metadata": {
    "execution": {
     "iopub.execute_input": "2020-12-12T06:04:06.466767Z",
     "iopub.status.busy": "2020-12-12T06:04:06.465988Z",
     "iopub.status.idle": "2020-12-12T06:04:06.483369Z",
     "shell.execute_reply": "2020-12-12T06:04:06.484303Z"
    },
    "papermill": {
     "duration": 0.040067,
     "end_time": "2020-12-12T06:04:06.484433",
     "exception": false,
     "start_time": "2020-12-12T06:04:06.444366",
     "status": "completed"
    },
    "tags": []
   },
   "outputs": [],
   "source": [
    "def get_model(img_size, num_classes):\n",
    "    inputs = keras.Input(shape=img_size + (3,))\n",
    "\n",
    "    ### [First half of the network: downsampling inputs] ###\n",
    "\n",
    "    # Entry block\n",
    "    x = layers.Conv2D(32, 3, strides=2, padding=\"same\")(inputs)\n",
    "    x = layers.BatchNormalization()(x)\n",
    "    x = layers.Activation(\"relu\")(x)\n",
    "    #x = layers.Dropout(0.50)(x)\n",
    "\n",
    "    previous_block_activation = x  # Set aside residual\n",
    "\n",
    "    # Blocks 1, 2, 3 are identical apart from the feature depth.\n",
    "    for filters in [64, 128, 256]:\n",
    "        x = layers.Activation(\"relu\")(x)\n",
    "        x = layers.SeparableConv2D(filters, 3, padding=\"same\")(x)\n",
    "        x = layers.BatchNormalization()(x)\n",
    "\n",
    "        x = layers.Activation(\"relu\")(x)\n",
    "        x = layers.SeparableConv2D(filters, 3, padding=\"same\")(x)\n",
    "        x = layers.BatchNormalization()(x)\n",
    "\n",
    "        x = layers.MaxPooling2D(3, strides=2, padding=\"same\")(x)\n",
    "        #x = layers.Dropout(0.50)(x)\n",
    "\n",
    "        # Project residual\n",
    "        residual = layers.Conv2D(filters, 1, strides=2, padding=\"same\")(\n",
    "            previous_block_activation\n",
    "        )\n",
    "        x = layers.add([x, residual])  # Add back residual\n",
    "        previous_block_activation = x  # Set aside next residual\n",
    "\n",
    "    ### [Second half of the network: upsampling inputs] ###\n",
    "\n",
    "    for filters in [256, 128, 64, 32]:\n",
    "        x = layers.Activation(\"relu\")(x)\n",
    "        x = layers.Conv2DTranspose(filters, 3, padding=\"same\")(x)\n",
    "        x = layers.BatchNormalization()(x)\n",
    "\n",
    "        x = layers.Activation(\"relu\")(x)\n",
    "        x = layers.Conv2DTranspose(filters, 3, padding=\"same\")(x)\n",
    "        x = layers.BatchNormalization()(x)\n",
    "\n",
    "        x = layers.UpSampling2D(2)(x)\n",
    "        #x = layers.Dropout(0.50)(x)\n",
    "\n",
    "        # Project residual\n",
    "        residual = layers.UpSampling2D(2)(previous_block_activation)\n",
    "        residual = layers.Conv2D(filters, 1, padding=\"same\")(residual)\n",
    "        x = layers.add([x, residual])  # Add back residual\n",
    "        previous_block_activation = x  # Set aside next residual\n",
    "\n",
    "    # Add a per-pixel classification layer\n",
    "    outputs = layers.Conv2D(num_classes - 1, 3, activation=\"sigmoid\", padding=\"same\")(x)\n",
    "\n",
    "    # Define the model\n",
    "    model = keras.Model(inputs, outputs)\n",
    "    return model"
   ]
  },
  {
   "cell_type": "code",
   "execution_count": 4,
   "metadata": {
    "execution": {
     "iopub.execute_input": "2020-12-12T06:04:06.522523Z",
     "iopub.status.busy": "2020-12-12T06:04:06.521770Z",
     "iopub.status.idle": "2020-12-12T06:04:06.551087Z",
     "shell.execute_reply": "2020-12-12T06:04:06.552013Z"
    },
    "papermill": {
     "duration": 0.053576,
     "end_time": "2020-12-12T06:04:06.552151",
     "exception": false,
     "start_time": "2020-12-12T06:04:06.498575",
     "status": "completed"
    },
    "tags": []
   },
   "outputs": [],
   "source": [
    "def unet(input_size = (256,256,3)):\n",
    "    inputs = Input(input_size)\n",
    "    \n",
    "    conv1 = Conv2D(64, 3, activation = 'relu', padding = 'same', kernel_initializer = 'he_normal')(inputs)\n",
    "    conv1 = Conv2D(64, 3, activation = 'relu', padding = 'same', kernel_initializer = 'he_normal')(conv1)\n",
    "    pool1 = MaxPooling2D(pool_size=(2, 2))(conv1)\n",
    "    conv2 = Conv2D(128, 3, activation = 'relu', padding = 'same', kernel_initializer = 'he_normal')(pool1)\n",
    "    conv2 = Conv2D(128, 3, activation = 'relu', padding = 'same', kernel_initializer = 'he_normal')(conv2)\n",
    "    pool2 = MaxPooling2D(pool_size=(2, 2))(conv2)\n",
    "    conv3 = Conv2D(256, 3, activation = 'relu', padding = 'same', kernel_initializer = 'he_normal')(pool2)\n",
    "    conv3 = Conv2D(256, 3, activation = 'relu', padding = 'same', kernel_initializer = 'he_normal')(conv3)\n",
    "    pool3 = MaxPooling2D(pool_size=(2, 2))(conv3)\n",
    "    conv4 = Conv2D(512, 3, activation = 'relu', padding = 'same', kernel_initializer = 'he_normal')(pool3)\n",
    "    conv4 = Conv2D(512, 3, activation = 'relu', padding = 'same', kernel_initializer = 'he_normal')(conv4)\n",
    "    #drop4 = Dropout(0.5)(conv4)\n",
    "    pool4 = MaxPooling2D(pool_size=(2, 2))(conv4)\n",
    "\n",
    "    conv5 = Conv2D(1024, 3, activation = 'relu', padding = 'same', kernel_initializer = 'he_normal')(pool4)\n",
    "    conv5 = Conv2D(1024, 3, activation = 'relu', padding = 'same', kernel_initializer = 'he_normal')(conv5)\n",
    "    #drop5 = Dropout(0.5)(conv5)\n",
    "\n",
    "    up6 = Conv2D(512, 2, activation = 'relu', padding = 'same', kernel_initializer = 'he_normal')(UpSampling2D(size = (2,2))(conv5))\n",
    "    merge6 = concatenate([conv4,up6], axis = 3)\n",
    "    conv6 = Conv2D(512, 3, activation = 'relu', padding = 'same', kernel_initializer = 'he_normal')(merge6)\n",
    "    conv6 = Conv2D(512, 3, activation = 'relu', padding = 'same', kernel_initializer = 'he_normal')(conv6)\n",
    "\n",
    "    up7 = Conv2D(256, 2, activation = 'relu', padding = 'same', kernel_initializer = 'he_normal')(UpSampling2D(size = (2,2))(conv6))\n",
    "    merge7 = concatenate([conv3,up7], axis = 3)\n",
    "    conv7 = Conv2D(256, 3, activation = 'relu', padding = 'same', kernel_initializer = 'he_normal')(merge7)\n",
    "    conv7 = Conv2D(256, 3, activation = 'relu', padding = 'same', kernel_initializer = 'he_normal')(conv7)\n",
    "\n",
    "    up8 = Conv2D(128, 2, activation = 'relu', padding = 'same', kernel_initializer = 'he_normal')(UpSampling2D(size = (2,2))(conv7))\n",
    "    merge8 = concatenate([conv2,up8], axis = 3)\n",
    "    conv8 = Conv2D(128, 3, activation = 'relu', padding = 'same', kernel_initializer = 'he_normal')(merge8)\n",
    "    conv8 = Conv2D(128, 3, activation = 'relu', padding = 'same', kernel_initializer = 'he_normal')(conv8)\n",
    "\n",
    "    up9 = Conv2D(64, 2, activation = 'relu', padding = 'same', kernel_initializer = 'he_normal')(UpSampling2D(size = (2,2))(conv8))\n",
    "    merge9 = concatenate([conv1,up9], axis = 3)\n",
    "    conv9 = Conv2D(64, 3, activation = 'relu', padding = 'same', kernel_initializer = 'he_normal')(merge9)\n",
    "    conv9 = Conv2D(64, 3, activation = 'relu', padding = 'same', kernel_initializer = 'he_normal')(conv9)\n",
    "    conv9 = Conv2D(2, 3, activation = 'relu', padding = 'same', kernel_initializer = 'he_normal')(conv9)\n",
    "    conv10 = Conv2D(1, 1, activation = 'sigmoid')(conv9)\n",
    "\n",
    "    model = Model(inputs, conv10)\n",
    "\n",
    "    return model"
   ]
  },
  {
   "cell_type": "code",
   "execution_count": 5,
   "metadata": {
    "execution": {
     "iopub.execute_input": "2020-12-12T06:04:06.599222Z",
     "iopub.status.busy": "2020-12-12T06:04:06.598361Z",
     "iopub.status.idle": "2020-12-12T06:04:06.602080Z",
     "shell.execute_reply": "2020-12-12T06:04:06.602758Z"
    },
    "papermill": {
     "duration": 0.030684,
     "end_time": "2020-12-12T06:04:06.602916",
     "exception": false,
     "start_time": "2020-12-12T06:04:06.572232",
     "status": "completed"
    },
    "tags": []
   },
   "outputs": [],
   "source": [
    "def dice_coef(y_true, y_pred, smooth=1):\n",
    "    y_true_f = K.flatten(y_true)\n",
    "    y_pred_f = K.flatten(y_pred)\n",
    "    intersection = K.sum(y_true_f * y_pred_f)\n",
    "    return (2. * intersection + smooth) / (K.sum(y_true_f) + K.sum(y_pred_f) + smooth)"
   ]
  },
  {
   "cell_type": "markdown",
   "metadata": {
    "papermill": {
     "duration": 0.010624,
     "end_time": "2020-12-12T06:04:06.629848",
     "exception": false,
     "start_time": "2020-12-12T06:04:06.619224",
     "status": "completed"
    },
    "tags": []
   },
   "source": [
    "## Settings & Parameters"
   ]
  },
  {
   "cell_type": "code",
   "execution_count": 6,
   "metadata": {
    "execution": {
     "iopub.execute_input": "2020-12-12T06:04:06.656817Z",
     "iopub.status.busy": "2020-12-12T06:04:06.655942Z",
     "iopub.status.idle": "2020-12-12T06:04:06.657856Z",
     "shell.execute_reply": "2020-12-12T06:04:06.658323Z"
    },
    "papermill": {
     "duration": 0.017914,
     "end_time": "2020-12-12T06:04:06.658426",
     "exception": false,
     "start_time": "2020-12-12T06:04:06.640512",
     "status": "completed"
    },
    "tags": []
   },
   "outputs": [],
   "source": [
    "type_names = ['id1'] \n",
    "\n",
    "input_dir = \"/kaggle/input/datathon-challenge/Training_Imgs/Training_Imgs/\"\n",
    "target_dir = \"/kaggle/input/datathon-challenge/Training_Masks/Training_Masks/\"\n",
    "\n",
    "img_size = (256, 256)\n",
    "num_classes = 2\n",
    "batch_size = 16\n",
    "epochs = 100\n",
    "val_samples = 500\n",
    "\n",
    "optimizer = \"adam\""
   ]
  },
  {
   "cell_type": "markdown",
   "metadata": {
    "papermill": {
     "duration": 0.010722,
     "end_time": "2020-12-12T06:04:06.679942",
     "exception": false,
     "start_time": "2020-12-12T06:04:06.669220",
     "status": "completed"
    },
    "tags": []
   },
   "source": [
    "## Input data"
   ]
  },
  {
   "cell_type": "code",
   "execution_count": 7,
   "metadata": {
    "execution": {
     "iopub.execute_input": "2020-12-12T06:04:06.706191Z",
     "iopub.status.busy": "2020-12-12T06:04:06.705593Z",
     "iopub.status.idle": "2020-12-12T06:04:06.812269Z",
     "shell.execute_reply": "2020-12-12T06:04:06.811756Z"
    },
    "papermill": {
     "duration": 0.121253,
     "end_time": "2020-12-12T06:04:06.812359",
     "exception": false,
     "start_time": "2020-12-12T06:04:06.691106",
     "status": "completed"
    },
    "tags": []
   },
   "outputs": [],
   "source": [
    "input_img_paths = sorted(\n",
    "    [\n",
    "        os.path.join(input_dir, fname)\n",
    "        for fname in os.listdir(input_dir)\n",
    "        if fname.endswith(\".jpeg\")\n",
    "    ]\n",
    ")"
   ]
  },
  {
   "cell_type": "markdown",
   "metadata": {
    "papermill": {
     "duration": 0.01077,
     "end_time": "2020-12-12T06:04:06.834290",
     "exception": false,
     "start_time": "2020-12-12T06:04:06.823520",
     "status": "completed"
    },
    "tags": []
   },
   "source": [
    "## Loop over for 4 type of classes and get 4 models"
   ]
  },
  {
   "cell_type": "code",
   "execution_count": 8,
   "metadata": {
    "execution": {
     "iopub.execute_input": "2020-12-12T06:04:06.872344Z",
     "iopub.status.busy": "2020-12-12T06:04:06.870130Z",
     "iopub.status.idle": "2020-12-12T06:20:58.414066Z",
     "shell.execute_reply": "2020-12-12T06:20:58.413080Z"
    },
    "papermill": {
     "duration": 1011.56832,
     "end_time": "2020-12-12T06:20:58.414175",
     "exception": false,
     "start_time": "2020-12-12T06:04:06.845855",
     "status": "completed"
    },
    "tags": []
   },
   "outputs": [
    {
     "name": "stdout",
     "output_type": "stream",
     "text": [
      "Number of samples: 1401\n",
      "Number of masks: 1401\n",
      "Epoch 1/100\n",
      "56/56 [==============================] - 55s 990ms/step - loss: 1.1986 - dice_coef: 0.1293 - val_loss: 0.4862 - val_dice_coef: 0.0224\n",
      "Epoch 2/100\n",
      "56/56 [==============================] - 41s 725ms/step - loss: 0.3114 - dice_coef: 0.0862 - val_loss: 0.3065 - val_dice_coef: 0.0990\n",
      "Epoch 3/100\n",
      "56/56 [==============================] - 40s 707ms/step - loss: 0.3091 - dice_coef: 0.0889 - val_loss: 0.3076 - val_dice_coef: 0.0850\n",
      "Epoch 4/100\n",
      "56/56 [==============================] - 40s 723ms/step - loss: 0.2941 - dice_coef: 0.0918 - val_loss: 0.3158 - val_dice_coef: 0.1155\n",
      "Epoch 5/100\n",
      "56/56 [==============================] - 40s 717ms/step - loss: 0.2967 - dice_coef: 0.0927 - val_loss: 0.3199 - val_dice_coef: 0.0675\n",
      "Epoch 6/100\n",
      "56/56 [==============================] - 40s 713ms/step - loss: 0.2919 - dice_coef: 0.0913 - val_loss: 0.2958 - val_dice_coef: 0.0990\n",
      "Epoch 7/100\n",
      "56/56 [==============================] - 40s 710ms/step - loss: 0.2843 - dice_coef: 0.0977 - val_loss: 0.3029 - val_dice_coef: 0.0830\n",
      "Epoch 8/100\n",
      "56/56 [==============================] - 40s 722ms/step - loss: 0.2813 - dice_coef: 0.0981 - val_loss: 0.2957 - val_dice_coef: 0.0929\n",
      "Epoch 9/100\n",
      "56/56 [==============================] - 40s 709ms/step - loss: 0.2834 - dice_coef: 0.1003 - val_loss: 0.3007 - val_dice_coef: 0.0842\n",
      "Epoch 10/100\n",
      "56/56 [==============================] - 40s 711ms/step - loss: 0.2887 - dice_coef: 0.0936 - val_loss: 0.2971 - val_dice_coef: 0.0899\n",
      "Epoch 11/100\n",
      "56/56 [==============================] - 40s 715ms/step - loss: 0.2892 - dice_coef: 0.0962 - val_loss: 0.2966 - val_dice_coef: 0.0907\n",
      "Epoch 12/100\n",
      "56/56 [==============================] - 41s 724ms/step - loss: 0.2880 - dice_coef: 0.0904 - val_loss: 0.2979 - val_dice_coef: 0.1114\n",
      "Epoch 13/100\n",
      "56/56 [==============================] - 40s 706ms/step - loss: 0.2862 - dice_coef: 0.0950 - val_loss: 0.2987 - val_dice_coef: 0.1072\n",
      "Epoch 14/100\n",
      "56/56 [==============================] - 40s 715ms/step - loss: 0.2813 - dice_coef: 0.0987 - val_loss: 0.2920 - val_dice_coef: 0.1091\n",
      "Epoch 15/100\n",
      "56/56 [==============================] - 41s 725ms/step - loss: 0.2796 - dice_coef: 0.0998 - val_loss: 0.2970 - val_dice_coef: 0.0857\n",
      "Epoch 16/100\n",
      "56/56 [==============================] - 39s 704ms/step - loss: 0.2846 - dice_coef: 0.0998 - val_loss: 0.2989 - val_dice_coef: 0.1067\n",
      "Epoch 17/100\n",
      "56/56 [==============================] - 40s 717ms/step - loss: 0.2828 - dice_coef: 0.0941 - val_loss: 0.2922 - val_dice_coef: 0.0987\n",
      "Epoch 18/100\n",
      "56/56 [==============================] - 40s 718ms/step - loss: 0.2808 - dice_coef: 0.1001 - val_loss: 0.3014 - val_dice_coef: 0.0814\n",
      "Epoch 19/100\n",
      "56/56 [==============================] - 40s 711ms/step - loss: 0.2865 - dice_coef: 0.0998 - val_loss: 0.3060 - val_dice_coef: 0.0763\n",
      "Epoch 20/100\n",
      "56/56 [==============================] - 40s 710ms/step - loss: 0.3707 - dice_coef: 0.0957 - val_loss: 0.3059 - val_dice_coef: 0.0851\n",
      "Epoch 21/100\n",
      "56/56 [==============================] - 39s 704ms/step - loss: 0.3007 - dice_coef: 0.0916 - val_loss: 0.3037 - val_dice_coef: 0.0809\n",
      "Epoch 22/100\n",
      "56/56 [==============================] - 40s 710ms/step - loss: 0.3004 - dice_coef: 0.0920 - val_loss: 0.3000 - val_dice_coef: 0.0904\n",
      "Epoch 23/100\n",
      "56/56 [==============================] - 40s 718ms/step - loss: 0.2818 - dice_coef: 0.0938 - val_loss: 0.2979 - val_dice_coef: 0.1115\n",
      "Epoch 24/100\n",
      "56/56 [==============================] - 40s 717ms/step - loss: 0.2795 - dice_coef: 0.1020 - val_loss: 0.3010 - val_dice_coef: 0.0815\n",
      "Max val dice coef: 0.11549687385559082\n",
      "Max dice coef: 0.1293032020330429\n"
     ]
    },
    {
     "data": {
      "image/png": "[encoded data removed]",
      "text/plain": [
       "<Figure size 432x288 with 1 Axes>"
      ]
     },
     "metadata": {
      "needs_background": "light"
     },
     "output_type": "display_data"
    },
    {
     "data": {
      "image/png": "[encoded data removed]",
      "text/plain": [
       "<Figure size 432x288 with 1 Axes>"
      ]
     },
     "metadata": {
      "needs_background": "light"
     },
     "output_type": "display_data"
    }
   ],
   "source": [
    "for type_name in type_names:\n",
    "    \n",
    "    \n",
    "    target_img_paths = sorted(\n",
    "        [\n",
    "            os.path.join(target_dir, fname)\n",
    "            for fname in os.listdir(target_dir)\n",
    "            if fname.endswith(\".png\") and f'{type_name}' in fname\n",
    "        ]\n",
    "    )\n",
    "\n",
    "    print(\"Number of samples:\", len(input_img_paths))\n",
    "    print(\"Number of masks:\", len(target_img_paths))\n",
    "\n",
    "    #for input_path, target_path in zip(input_img_paths[:10], target_img_paths[:10]):\n",
    "    #    print(input_path, \"|\", target_path)\n",
    "        \n",
    "    # Free up RAM in case the model definition cells were run multiple times\n",
    "    keras.backend.clear_session()\n",
    "    \n",
    "    # Build model\n",
    "    model = unet()\n",
    "    #model.summary()\n",
    "    \n",
    "    # Split our img paths into a training and a validation set\n",
    "    random.Random(1337).shuffle(input_img_paths)\n",
    "    random.Random(1337).shuffle(target_img_paths)\n",
    "    train_input_img_paths = input_img_paths[:-val_samples]\n",
    "    train_target_img_paths = target_img_paths[:-val_samples]\n",
    "    val_input_img_paths = input_img_paths[-val_samples:]\n",
    "    val_target_img_paths = target_img_paths[-val_samples:]\n",
    "\n",
    "    # Instantiate data Sequences for each split\n",
    "    train_gen = AnadoluSigorta(\n",
    "        batch_size, img_size, train_input_img_paths, train_target_img_paths\n",
    "    )\n",
    "    val_gen = AnadoluSigorta(batch_size, img_size, val_input_img_paths, val_target_img_paths)\n",
    "    \n",
    "    # Configure the model for training.\n",
    "    model.compile(optimizer=optimizer, loss=\"binary_crossentropy\", metrics=[dice_coef])\n",
    "\n",
    "    filepath = f\"anadolu_segmentation_{type_name}.h5\"\n",
    "\n",
    "    callbacks = [\n",
    "        #keras.callbacks.ModelCheckpoint(filepath,\n",
    "        #                                save_best_only=True,\n",
    "        #                                verbose=1,\n",
    "        #                                monitor='val_dice_coef',\n",
    "        #                                mode='max'),\n",
    "        keras.callbacks.EarlyStopping(monitor=\"val_loss\",\n",
    "                                      min_delta=0,\n",
    "                                      patience=10,\n",
    "                                      mode=\"min\",\n",
    "                                      restore_best_weights=True)\n",
    "                                      \n",
    "    ]\n",
    "\n",
    "    # Train the model, doing validation at the end of each epoch.\n",
    "    history = model.fit(train_gen, epochs=epochs, validation_data=val_gen, callbacks=callbacks)\n",
    "        \n",
    "    history_df = pd.DataFrame(history.history)\n",
    "    history_df.loc[:, ['loss', 'val_loss']].plot() \n",
    "    history_df.loc[:, ['dice_coef', 'val_dice_coef']].plot()\n",
    "                                      \n",
    "    print(\"Max val dice coef: {}\".format(history_df['val_dice_coef'].max()))\n",
    "    print(\"Max dice coef: {}\".format(history_df['dice_coef'].max()))\n",
    "    \n",
    "    model.save(filepath)"
   ]
  },
  {
   "cell_type": "code",
   "execution_count": null,
   "metadata": {
    "papermill": {
     "duration": 0.495084,
     "end_time": "2020-12-12T06:20:59.400568",
     "exception": false,
     "start_time": "2020-12-12T06:20:58.905484",
     "status": "completed"
    },
    "tags": []
   },
   "outputs": [],
   "source": []
  }
 ],
 "metadata": {
  "kernelspec": {
   "display_name": "Python 3",
   "language": "python",
   "name": "python3"
  },
  "language_info": {
   "codemirror_mode": {
    "name": "ipython",
    "version": 3
   },
   "file_extension": ".py",
   "mimetype": "text/x-python",
   "name": "python",
   "nbconvert_exporter": "python",
   "pygments_lexer": "ipython3",
   "version": "3.7.6"
  },
  "papermill": {
   "duration": 1025.231612,
   "end_time": "2020-12-12T06:21:01.655492",
   "environment_variables": {},
   "exception": null,
   "input_path": "__notebook__.ipynb",
   "output_path": "__notebook__.ipynb",
   "parameters": {},
   "start_time": "2020-12-12T06:03:56.423880",
   "version": "2.1.0"
  }
 },
 "nbformat": 4,
 "nbformat_minor": 4
}
